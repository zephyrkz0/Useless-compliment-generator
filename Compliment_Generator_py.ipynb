{
  "nbformat": 4,
  "nbformat_minor": 0,
  "metadata": {
    "colab": {
      "provenance": [],
      "authorship_tag": "ABX9TyObUbJFSwXKe9mgRKA/edvV",
      "include_colab_link": true
    },
    "kernelspec": {
      "name": "python3",
      "display_name": "Python 3"
    },
    "language_info": {
      "name": "python"
    }
  },
  "cells": [
    {
      "cell_type": "markdown",
      "metadata": {
        "id": "view-in-github",
        "colab_type": "text"
      },
      "source": [
        "<a href=\"https://colab.research.google.com/github/alenelias123/Compliment-Generator/blob/main/Compliment_Generator_py.ipynb\" target=\"_parent\"><img src=\"https://colab.research.google.com/assets/colab-badge.svg\" alt=\"Open In Colab\"/></a>"
      ]
    },
    {
      "cell_type": "code",
      "execution_count": null,
      "metadata": {
        "id": "j6RMewS_CDTj"
      },
      "outputs": [],
      "source": [
        "!pip install gradio transformers torch opencv-python scikit-learn\n",
        "\n",
        "import gradio as gr\n",
        "from transformers import pipeline\n",
        "import cv2\n",
        "import numpy as np\n",
        "from sklearn.cluster import KMeans\n",
        "from PIL import Image\n",
        "\n",
        "generator = pipeline(\"text-generation\", model=\"gpt2\")\n",
        "\n",
        "face_cascade = cv2.CascadeClassifier(cv2.data.haarcascades + 'haarcascade_frontalface_default.xml')\n",
        "smile_cascade = cv2.CascadeClassifier(cv2.data.haarcascades + 'haarcascade_smile.xml')\n",
        "\n",
        "def generate_compliment(image):\n",
        "    img = cv2.cvtColor(np.array(image), cv2.COLOR_RGB2BGR)\n",
        "\n",
        "    gray = cv2.cvtColor(img, cv2.COLOR_BGR2GRAY)\n",
        "    faces = face_cascade.detectMultiScale(gray, 1.2, 5)\n",
        "    is_smiling = False\n",
        "\n",
        "    for (x, y, w, h) in faces:\n",
        "        roi_gray = gray[y:y+h, x:x+w]\n",
        "        smiles = smile_cascade.detectMultiScale(roi_gray, scaleFactor=1.9, minNeighbors=20)\n",
        "        if len(smiles) > 0:\n",
        "            is_smiling = True\n",
        "            break\n",
        "\n",
        "    h, w, _ = img.shape\n",
        "    center_y, center_x = h // 2, w // 2\n",
        "    clothing_region = img[center_y-50:center_y+50, center_x-50:center_x+50]\n",
        "    pixels = clothing_region.reshape(-1, 3)\n",
        "    kmeans = KMeans(n_clusters=1, random_state=0).fit(pixels)\n",
        "    dominant_color = kmeans.cluster_centers_[0].astype(int)\n",
        "\n",
        "    prompt = \"You have a wonderful \"\n",
        "    if is_smiling:\n",
        "        prompt += \"smile that could brighten anyone's day. \"\n",
        "    if is_smiling == False:\n",
        "        prompt+=\"smile but you dont intend to show it to anyone. \"\n",
        "    color_name = \"stylish outfit\"\n",
        "    if np.allclose(dominant_color, [50, 50, 255], atol=100):\n",
        "        color_name = \"stunning red outfit\"\n",
        "    elif np.allclose(dominant_color, [50, 255, 50], atol=100):\n",
        "        color_name = \"gorgeous green attire\"\n",
        "    elif np.allclose(dominant_color, [255, 50, 50], atol=100):\n",
        "        color_name = \"beautiful blue ensemble\"\n",
        "    prompt += f\"Your {color_name} really suits you!\"\n",
        "    response = generator(prompt, max_length=50, temperature=0.9, num_return_sequences=2)\n",
        "\n",
        "    return response[0][\"generated_text\"]\n",
        "\n",
        "iface = gr.Interface(\n",
        "    fn=generate_compliment,\n",
        "    inputs=gr.Image(type=\"pil\"),\n",
        "    outputs=\"text\",\n",
        "    title=\"Over-the-Top Compliment Generator\",\n",
        "    description=\"Upload an image to receive a customized compliment based on your smile and outfit color.\"\n",
        ")\n",
        "\n",
        "\n",
        "iface.launch()\n"
      ]
    }
  ]
}
